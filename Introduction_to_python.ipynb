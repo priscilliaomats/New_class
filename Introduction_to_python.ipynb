{
 "cells": [
  {
   "cell_type": "markdown",
   "metadata": {},
   "source": [
    "# Introduction to Python"
   ]
  },
  {
   "cell_type": "markdown",
   "metadata": {},
   "source": [
    "This brief introduction to the Python programming language aims to explain the Python concepts required in Data Science in a concise manner"
   ]
  },
  {
   "cell_type": "markdown",
   "metadata": {},
   "source": [
    "## Table of Content\n",
    "\n",
    "\n",
    "1. Types of Numbers in Python\n",
    "\n",
    "2. Common Math Operations\n",
    "\n",
    "3. Comments in Python\n",
    "\n",
    "4. Variables\n",
    "\n",
    "5. Case-sensitivity\n",
    "\n",
    "6. Data types\n",
    "\n",
    "7. Built-in Data Structures\n",
    "\n",
    "8. Built-in Functions\n",
    "\n",
    "9. Conditions\n",
    "\n",
    "10. Loops\n",
    "\n",
    "11. Custom Functions"
   ]
  },
  {
   "cell_type": "code",
   "execution_count": null,
   "metadata": {},
   "outputs": [],
   "source": []
  },
  {
   "cell_type": "markdown",
   "metadata": {},
   "source": [
    "### 1. Types of Numbers in Python"
   ]
  },
  {
   "cell_type": "markdown",
   "metadata": {},
   "source": [
    "Put simply, there are only two major types of numbers in Python:\n",
    "\n",
    "- Integers\n",
    "\n",
    "- floats\n",
    "\n",
    "\n",
    "Examples of integers are positive and negative whole numbers. For example -6,1, 100, and so on.\n",
    "\n",
    "Examples of Floats are numbers that have decimal points. For example 5.5, 32.8, and so on."
   ]
  },
  {
   "cell_type": "code",
   "execution_count": null,
   "metadata": {},
   "outputs": [],
   "source": []
  },
  {
   "cell_type": "markdown",
   "metadata": {},
   "source": [
    "### 2. Common Math Operations\n",
    "\n",
    "\n",
    "https://www.geeksforgeeks.org/python-arithmetic-operators/"
   ]
  },
  {
   "cell_type": "markdown",
   "metadata": {},
   "source": [
    "#### Addition:\n",
    "\n",
    "- This is simply the sum of numbers.\n",
    "\n",
    "- The \"+\" sign is used for addition\n",
    "\n",
    "- If you add two integers together, you get an integer.\n",
    "\n",
    "- If you add two floats together, you get a float.\n",
    "\n",
    "- If you add an integer and a float together, you get a float as well"
   ]
  },
  {
   "cell_type": "code",
   "execution_count": 14,
   "metadata": {},
   "outputs": [
    {
     "data": {
      "text/plain": [
       "4"
      ]
     },
     "execution_count": 14,
     "metadata": {},
     "output_type": "execute_result"
    }
   ],
   "source": [
    "2 + 2"
   ]
  },
  {
   "cell_type": "code",
   "execution_count": 15,
   "metadata": {},
   "outputs": [
    {
     "data": {
      "text/plain": [
       "102.95"
      ]
     },
     "execution_count": 15,
     "metadata": {},
     "output_type": "execute_result"
    }
   ],
   "source": [
    "15.8 + 87.15"
   ]
  },
  {
   "cell_type": "code",
   "execution_count": 16,
   "metadata": {},
   "outputs": [
    {
     "data": {
      "text/plain": [
       "30.5"
      ]
     },
     "execution_count": 16,
     "metadata": {},
     "output_type": "execute_result"
    }
   ],
   "source": [
    "8 + 22.5"
   ]
  },
  {
   "cell_type": "code",
   "execution_count": 17,
   "metadata": {},
   "outputs": [
    {
     "data": {
      "text/plain": [
       "4.0"
      ]
     },
     "execution_count": 17,
     "metadata": {},
     "output_type": "execute_result"
    }
   ],
   "source": [
    "2 + 2.0"
   ]
  },
  {
   "cell_type": "code",
   "execution_count": null,
   "metadata": {},
   "outputs": [],
   "source": []
  },
  {
   "cell_type": "markdown",
   "metadata": {},
   "source": [
    "#### Subtraction:\n",
    "\n",
    "- This is simply the difference between numbers.\n",
    "\n",
    "- The \"-\" sign is used for addition\n",
    "\n",
    "- If you subtract two integers, you get an integer.\n",
    "\n",
    "- If you subtract two floats, you get a float.\n",
    "\n",
    "- If you subtract an integer from a float or vice-versa, you get a float as well"
   ]
  },
  {
   "cell_type": "code",
   "execution_count": 18,
   "metadata": {},
   "outputs": [
    {
     "data": {
      "text/plain": [
       "-3"
      ]
     },
     "execution_count": 18,
     "metadata": {},
     "output_type": "execute_result"
    }
   ],
   "source": [
    "2 - 5"
   ]
  },
  {
   "cell_type": "code",
   "execution_count": 19,
   "metadata": {},
   "outputs": [
    {
     "data": {
      "text/plain": [
       "12.599999999999998"
      ]
     },
     "execution_count": 19,
     "metadata": {},
     "output_type": "execute_result"
    }
   ],
   "source": [
    "27.4 - 14.8"
   ]
  },
  {
   "cell_type": "code",
   "execution_count": 20,
   "metadata": {},
   "outputs": [
    {
     "data": {
      "text/plain": [
       "-24.4"
      ]
     },
     "execution_count": 20,
     "metadata": {},
     "output_type": "execute_result"
    }
   ],
   "source": [
    "34 - 58.4"
   ]
  },
  {
   "cell_type": "code",
   "execution_count": null,
   "metadata": {},
   "outputs": [],
   "source": []
  },
  {
   "cell_type": "markdown",
   "metadata": {},
   "source": [
    "#### Multiplication\n",
    "\n",
    "\n",
    "- This is simply the product of numbers.\n",
    "\n",
    "- The \"*\" sign is used for multiplication\n",
    "\n",
    "- If you multiply two integers together, you get an integer.\n",
    "\n",
    "- If you multiply two floats together, you get a float.\n",
    "\n",
    "- If you multiply an integer and a float together, you get a float as well"
   ]
  },
  {
   "cell_type": "code",
   "execution_count": 21,
   "metadata": {},
   "outputs": [
    {
     "data": {
      "text/plain": [
       "-108"
      ]
     },
     "execution_count": 21,
     "metadata": {},
     "output_type": "execute_result"
    }
   ],
   "source": [
    "-27 * 4"
   ]
  },
  {
   "cell_type": "code",
   "execution_count": 22,
   "metadata": {},
   "outputs": [
    {
     "data": {
      "text/plain": [
       "7744"
      ]
     },
     "execution_count": 22,
     "metadata": {},
     "output_type": "execute_result"
    }
   ],
   "source": [
    "88 * 88"
   ]
  },
  {
   "cell_type": "code",
   "execution_count": 23,
   "metadata": {},
   "outputs": [
    {
     "data": {
      "text/plain": [
       "80907.43936"
      ]
     },
     "execution_count": 23,
     "metadata": {},
     "output_type": "execute_result"
    }
   ],
   "source": [
    "334.2592 * 242.05"
   ]
  },
  {
   "cell_type": "code",
   "execution_count": null,
   "metadata": {},
   "outputs": [],
   "source": []
  },
  {
   "cell_type": "markdown",
   "metadata": {},
   "source": [
    "#### Division:\n",
    "\n",
    "\n",
    "- This is simply the quotient of two numbers.\n",
    "\n",
    "- The \"/\" sign is used for divisio\n",
    "\n",
    "- If you divide two integers, you get a float.\n",
    "\n",
    "- If you divide two floats, you get a float.\n",
    "\n",
    "- If you divide an integer and a float, you get a float as well\n",
    "\n",
    "- We should always **avoid dividing by zero**"
   ]
  },
  {
   "cell_type": "code",
   "execution_count": 4,
   "metadata": {},
   "outputs": [
    {
     "name": "stdout",
     "output_type": "stream",
     "text": [
      "Iyiola and Mrs. Modupe are in Data Science class\n",
      "20.0\n",
      "12\n"
     ]
    }
   ],
   "source": [
    "print(\"Iyiola and Mrs. Modupe are in Data Science class\")\n",
    "\n",
    "print(200/10)\n",
    "print(2+10)"
   ]
  },
  {
   "cell_type": "code",
   "execution_count": 24,
   "metadata": {},
   "outputs": [
    {
     "data": {
      "text/plain": [
       "2.0"
      ]
     },
     "execution_count": 24,
     "metadata": {},
     "output_type": "execute_result"
    }
   ],
   "source": [
    "18/9"
   ]
  },
  {
   "cell_type": "code",
   "execution_count": 25,
   "metadata": {},
   "outputs": [
    {
     "data": {
      "text/plain": [
       "22.9"
      ]
     },
     "execution_count": 25,
     "metadata": {},
     "output_type": "execute_result"
    }
   ],
   "source": [
    "45.8/2"
   ]
  },
  {
   "cell_type": "code",
   "execution_count": null,
   "metadata": {},
   "outputs": [],
   "source": []
  },
  {
   "cell_type": "markdown",
   "metadata": {},
   "source": [
    "### How Python runs code:\n",
    "\n",
    "\n",
    "- Python runs each code line-by-line starting from the beginning of the cell to the end of the cell.\n",
    "\n",
    "- A cell is this box that code is being typed in. The next cell after this cell is numbered 65."
   ]
  },
  {
   "cell_type": "code",
   "execution_count": null,
   "metadata": {},
   "outputs": [],
   "source": []
  },
  {
   "cell_type": "markdown",
   "metadata": {},
   "source": [
    "### Explanation of the above error:\n",
    "\n",
    "\n",
    "- Python runs code line-by-line.\n",
    "\n",
    "- The print statement is run first, then, the next line is run.\n",
    "\n",
    "- The next line is 2000 divided by 0. This is a calculation error so python stops running the code within the cell and returns a ZeroDivisionError.\n",
    "\n",
    "- After returning this error, the last line of print(2 + 10) is not run because python will not continue the execution of a code unless all codes are correct."
   ]
  },
  {
   "cell_type": "code",
   "execution_count": null,
   "metadata": {},
   "outputs": [],
   "source": []
  },
  {
   "cell_type": "code",
   "execution_count": null,
   "metadata": {},
   "outputs": [],
   "source": []
  },
  {
   "cell_type": "markdown",
   "metadata": {},
   "source": [
    "#### Exponentiation:\n",
    "\n",
    "\n",
    "- This just simply implies raising one number to a power. For example, $2^2$ or $5^{-11}$\n",
    "\n",
    "- It is written using the symbol \"**\"\n",
    "\n",
    "- It is also written using the syntax: pow(base, power)."
   ]
  },
  {
   "cell_type": "code",
   "execution_count": 26,
   "metadata": {},
   "outputs": [
    {
     "data": {
      "text/plain": [
       "16"
      ]
     },
     "execution_count": 26,
     "metadata": {},
     "output_type": "execute_result"
    }
   ],
   "source": [
    "#2 to the power of 4\n",
    "\n",
    "2 ** 4"
   ]
  },
  {
   "cell_type": "code",
   "execution_count": 5,
   "metadata": {},
   "outputs": [],
   "source": [
    "#to use the race to power,we just type pow and open a bracket to put in the base and power...example we need to raise 3to the power of 20 below"
   ]
  },
  {
   "cell_type": "code",
   "execution_count": 27,
   "metadata": {},
   "outputs": [
    {
     "data": {
      "text/plain": [
       "3486784401"
      ]
     },
     "execution_count": 27,
     "metadata": {},
     "output_type": "execute_result"
    }
   ],
   "source": [
    "#3 to the power of 20\n",
    "\n",
    "pow(3,20)"
   ]
  },
  {
   "cell_type": "code",
   "execution_count": null,
   "metadata": {},
   "outputs": [],
   "source": []
  },
  {
   "cell_type": "markdown",
   "metadata": {},
   "source": [
    "#### Modulo:\n",
    "\n",
    "- This is used to return the remainder of a valid division operation.\n",
    "\n",
    "- For example, If we were to divide 23 by 4, we find that we can only have 4 go into 23 5 times and there would be a remainder of 3. Using this Modulo operation, we expect that it should give us a result of 3 if it is performed with 23 and 4."
   ]
  },
  {
   "cell_type": "code",
   "execution_count": 28,
   "metadata": {},
   "outputs": [
    {
     "data": {
      "text/plain": [
       "1"
      ]
     },
     "execution_count": 28,
     "metadata": {},
     "output_type": "execute_result"
    }
   ],
   "source": [
    "15 % 7"
   ]
  },
  {
   "cell_type": "code",
   "execution_count": 29,
   "metadata": {},
   "outputs": [
    {
     "data": {
      "text/plain": [
       "6"
      ]
     },
     "execution_count": 29,
     "metadata": {},
     "output_type": "execute_result"
    }
   ],
   "source": [
    "20%7"
   ]
  },
  {
   "cell_type": "code",
   "execution_count": 30,
   "metadata": {},
   "outputs": [
    {
     "data": {
      "text/plain": [
       "3"
      ]
     },
     "execution_count": 30,
     "metadata": {},
     "output_type": "execute_result"
    }
   ],
   "source": [
    "23 % 4"
   ]
  },
  {
   "cell_type": "code",
   "execution_count": null,
   "metadata": {},
   "outputs": [],
   "source": []
  },
  {
   "cell_type": "markdown",
   "metadata": {},
   "source": [
    "#### Integer Division:\n",
    "\n",
    "- This is used to return the quotient of a valid division operation\n",
    "\n",
    "- For example, integer division of 23 divided by 4 gives us 5 as the answer since 5 is the quotient and 3 is the remainder."
   ]
  },
  {
   "cell_type": "code",
   "execution_count": 31,
   "metadata": {},
   "outputs": [
    {
     "data": {
      "text/plain": [
       "2"
      ]
     },
     "execution_count": 31,
     "metadata": {},
     "output_type": "execute_result"
    }
   ],
   "source": [
    "15 // 7"
   ]
  },
  {
   "cell_type": "code",
   "execution_count": 32,
   "metadata": {},
   "outputs": [
    {
     "data": {
      "text/plain": [
       "5"
      ]
     },
     "execution_count": 32,
     "metadata": {},
     "output_type": "execute_result"
    }
   ],
   "source": [
    "23 // 4"
   ]
  },
  {
   "cell_type": "code",
   "execution_count": null,
   "metadata": {},
   "outputs": [],
   "source": []
  },
  {
   "cell_type": "markdown",
   "metadata": {},
   "source": []
  },
  {
   "cell_type": "markdown",
   "metadata": {},
   "source": [
    "### 3. Adding Comments\n",
    "\n",
    "\n",
    "\n",
    "Comments are extra bits of information about a piece of code. They are used to explain what the code does. \n",
    "\n",
    "It is important to comment your lines of code so that if you come back to the code after months or even years later, you can still understand the code because its operation was well explained in the comments.\n",
    "\n",
    "https://www.simplilearn.com/tutorials/python-tutorial/comments-in-python#:~:text=Comments%20in%20Python%20are%20identified,a%20multi%2Dline%20comment%20block.\n",
    "\n",
    "\n",
    "There are two types of comments. These are:\n",
    "\n",
    "- Comments with quotation marks\n",
    "\n",
    "- Comments with the hashtag\n",
    "\n",
    "\n",
    "**Quotation marks**:\n",
    "\n",
    "These are comments that python recognizes as a string. A string is just the representation of how to write any type of text.\n",
    "\n",
    "Anything can be written inside quotation marks. \"I am a boy\", \"4\", \"#@@#$\". All these are comments with quotation marks.\n",
    "\n",
    "Also, single quotation marks and double quotation marks serve the same purpose\n",
    "\n",
    "\n",
    "**Hashtag**:\n",
    "\n",
    "These are what you can call pure comments in python. They do not serve any other purpose than to give more information to the reader of the code about what has been typed."
   ]
  },
  {
   "cell_type": "code",
   "execution_count": 8,
   "metadata": {},
   "outputs": [
    {
     "data": {
      "text/plain": [
       "'Triple Quotation mark\\n\\nit extends from line to line till the closing triple quotes'"
      ]
     },
     "execution_count": 8,
     "metadata": {},
     "output_type": "execute_result"
    }
   ],
   "source": [
    "#This is an example of a comment with hashtag,also triple quotation marks help you type or wtrite contiouslyfrom line to line withiut having to close your work untuil tou are done\n",
    "\n",
    "Mrs_Modupe ='Single Quotation mark'\n",
    "\n",
    "'Jare said \"I am a short boy\"'\n",
    "\"Double\" \n",
    "\"Quotation mark\"\n",
    "\n",
    "\"\"\"Triple Quotation mark\n",
    "\n",
    "it extends from line to line till the closing triple quotes\"\"\""
   ]
  },
  {
   "cell_type": "code",
   "execution_count": null,
   "metadata": {},
   "outputs": [],
   "source": []
  },
  {
   "cell_type": "code",
   "execution_count": 7,
   "metadata": {},
   "outputs": [
    {
     "name": "stdout",
     "output_type": "stream",
     "text": [
      "ade is here\n"
     ]
    }
   ],
   "source": [
    "print(\"ade is here\")"
   ]
  },
  {
   "cell_type": "markdown",
   "metadata": {},
   "source": [
    "### 4. Variable Assignment\n",
    "\n",
    "https://realpython.com/python-variables/#:~:text=A%20Python%20variable%20is%20a,still%20contained%20within%20the%20object.\n",
    "\n",
    "**Rules of Variable Assigment**\n",
    "\n",
    "1. Only numbers, letters, and underscores can be used\n",
    "\n",
    "2. Numbers must never come first\n",
    "\n",
    "3. Variable names such as x, should not be made to be equal to a python keyword"
   ]
  },
  {
   "cell_type": "markdown",
   "metadata": {},
   "source": [
    "We can assign variable names to numbers as shown below:"
   ]
  },
  {
   "cell_type": "code",
   "execution_count": 9,
   "metadata": {},
   "outputs": [
    {
     "name": "stdout",
     "output_type": "stream",
     "text": [
      "olujare\n"
     ]
    }
   ],
   "source": [
    "name=\"olujare\"\n",
    "print(name)"
   ]
  },
  {
   "cell_type": "code",
   "execution_count": 10,
   "metadata": {},
   "outputs": [
    {
     "data": {
      "text/plain": [
       "-80"
      ]
     },
     "execution_count": 10,
     "metadata": {},
     "output_type": "execute_result"
    }
   ],
   "source": [
    "x = 5\n",
    "\n",
    "#x = 10\n",
    "\n",
    "x = -80\n",
    "\n",
    "x"
   ]
  },
  {
   "cell_type": "markdown",
   "metadata": {},
   "source": [
    "We can assign variable names to strings as shown below:,,python works with the value on the rihht hand side,and that is why x is equal \"iyiola\" instead of \"jare\" because x is on d left while y is on the right hand side in the example below(x=y) "
   ]
  },
  {
   "cell_type": "code",
   "execution_count": 14,
   "metadata": {},
   "outputs": [],
   "source": [
    "x = \"jare\""
   ]
  },
  {
   "cell_type": "code",
   "execution_count": 15,
   "metadata": {},
   "outputs": [],
   "source": [
    "y = \"Iyiola\""
   ]
  },
  {
   "cell_type": "code",
   "execution_count": 16,
   "metadata": {},
   "outputs": [
    {
     "data": {
      "text/plain": [
       "'Iyiola'"
      ]
     },
     "execution_count": 16,
     "metadata": {},
     "output_type": "execute_result"
    }
   ],
   "source": [
    "x = y\n",
    "\n",
    "x"
   ]
  },
  {
   "cell_type": "code",
   "execution_count": 17,
   "metadata": {},
   "outputs": [
    {
     "data": {
      "text/plain": [
       "'Iyiola'"
      ]
     },
     "execution_count": 17,
     "metadata": {},
     "output_type": "execute_result"
    }
   ],
   "source": [
    "y"
   ]
  },
  {
   "cell_type": "code",
   "execution_count": null,
   "metadata": {},
   "outputs": [],
   "source": []
  },
  {
   "cell_type": "markdown",
   "metadata": {},
   "source": [
    "We can assign multiple variables to multiple values on the same line in the following way:"
   ]
  },
  {
   "cell_type": "code",
   "execution_count": 20,
   "metadata": {},
   "outputs": [],
   "source": [
    "j, k, l = 50, 50, 45"
   ]
  },
  {
   "cell_type": "code",
   "execution_count": 21,
   "metadata": {},
   "outputs": [
    {
     "name": "stdout",
     "output_type": "stream",
     "text": [
      "45\n"
     ]
    }
   ],
   "source": [
    "print(l)"
   ]
  },
  {
   "cell_type": "code",
   "execution_count": 22,
   "metadata": {},
   "outputs": [
    {
     "name": "stdout",
     "output_type": "stream",
     "text": [
      "50\n"
     ]
    }
   ],
   "source": [
    "print(k)"
   ]
  },
  {
   "cell_type": "markdown",
   "metadata": {},
   "source": [
    "We can update the value of a variable in the following way"
   ]
  },
  {
   "cell_type": "code",
   "execution_count": 41,
   "metadata": {},
   "outputs": [
    {
     "data": {
      "text/plain": [
       "45"
      ]
     },
     "execution_count": 41,
     "metadata": {},
     "output_type": "execute_result"
    }
   ],
   "source": [
    "#Subtracting 5 from a variable\n",
    "\n",
    "j = j -5\n",
    "j"
   ]
  },
  {
   "cell_type": "code",
   "execution_count": 42,
   "metadata": {},
   "outputs": [
    {
     "data": {
      "text/plain": [
       "55"
      ]
     },
     "execution_count": 42,
     "metadata": {},
     "output_type": "execute_result"
    }
   ],
   "source": [
    "#Adding 5 to a variable\n",
    "\n",
    "k = k + 5\n",
    "k"
   ]
  },
  {
   "cell_type": "code",
   "execution_count": 43,
   "metadata": {},
   "outputs": [
    {
     "data": {
      "text/plain": [
       "55"
      ]
     },
     "execution_count": 43,
     "metadata": {},
     "output_type": "execute_result"
    }
   ],
   "source": [
    "# Adding 5 to variable\n",
    "\n",
    "l = l + 5\n",
    "l += 5\n",
    "l"
   ]
  },
  {
   "cell_type": "code",
   "execution_count": 44,
   "metadata": {},
   "outputs": [
    {
     "data": {
      "text/plain": [
       "49"
      ]
     },
     "execution_count": 44,
     "metadata": {},
     "output_type": "execute_result"
    }
   ],
   "source": [
    "#Subtracting 6 from a variable\n",
    "\n",
    "l -= 6\n",
    "l"
   ]
  },
  {
   "cell_type": "code",
   "execution_count": 45,
   "metadata": {},
   "outputs": [
    {
     "data": {
      "text/plain": [
       "98"
      ]
     },
     "execution_count": 45,
     "metadata": {},
     "output_type": "execute_result"
    }
   ],
   "source": [
    "#Multiplying a variable by 2\n",
    "\n",
    "l *= 2\n",
    "l"
   ]
  },
  {
   "cell_type": "code",
   "execution_count": 46,
   "metadata": {},
   "outputs": [
    {
     "data": {
      "text/plain": [
       "49.0"
      ]
     },
     "execution_count": 46,
     "metadata": {},
     "output_type": "execute_result"
    }
   ],
   "source": [
    "#Dividing a variable by 2\n",
    "\n",
    "l /= 2\n",
    "l"
   ]
  },
  {
   "cell_type": "code",
   "execution_count": null,
   "metadata": {},
   "outputs": [],
   "source": []
  },
  {
   "cell_type": "code",
   "execution_count": 47,
   "metadata": {},
   "outputs": [
    {
     "data": {
      "text/plain": [
       "'erty'"
      ]
     },
     "execution_count": 47,
     "metadata": {},
     "output_type": "execute_result"
    }
   ],
   "source": [
    "#How to name variables\n",
    "\n",
    "_2boys = \"two\"\n",
    "\n",
    "Jare9 = \"Teacher\"\n",
    "\n",
    "jare = \"erty\"\n",
    "\n",
    "jare"
   ]
  },
  {
   "cell_type": "code",
   "execution_count": null,
   "metadata": {},
   "outputs": [],
   "source": []
  },
  {
   "cell_type": "markdown",
   "metadata": {},
   "source": [
    "### Implicit questions\n",
    "\n",
    "\n",
    "These are questions that we ask python by assigning one variable to another.\n",
    "\n",
    "The operators we use for this type of question are:\n",
    "\n",
    "\"==\": Is the item on the left equal to the item on the right?\n",
    "\n",
    "\">\": Is the item on the left greater than the item on the right?\n",
    "\n",
    "\"<\": Is the item on the left less than the item on the right?\n",
    "\n",
    "\">=\": Is the item on the left greater than or equal to the item on the right?\n",
    "\n",
    "\"<=\": Is the item on the left less than or equal to the item on the right?\n",
    "\n",
    "\"!=\": Is the item on the left not equal to the item on the right?"
   ]
  },
  {
   "cell_type": "code",
   "execution_count": 48,
   "metadata": {},
   "outputs": [
    {
     "data": {
      "text/plain": [
       "False"
      ]
     },
     "execution_count": 48,
     "metadata": {},
     "output_type": "execute_result"
    }
   ],
   "source": [
    "#2 == 2\n",
    "\n",
    "3 == 4"
   ]
  },
  {
   "cell_type": "code",
   "execution_count": 49,
   "metadata": {},
   "outputs": [
    {
     "data": {
      "text/plain": [
       "True"
      ]
     },
     "execution_count": 49,
     "metadata": {},
     "output_type": "execute_result"
    }
   ],
   "source": [
    "2 != 7"
   ]
  },
  {
   "cell_type": "code",
   "execution_count": 50,
   "metadata": {},
   "outputs": [
    {
     "data": {
      "text/plain": [
       "True"
      ]
     },
     "execution_count": 50,
     "metadata": {},
     "output_type": "execute_result"
    }
   ],
   "source": [
    "#5 > 6\n",
    "\n",
    "#5 >= 6\n",
    "\n",
    "#5 < 6\n",
    "\n",
    "#5 <= 6\n",
    "\n",
    "5 <= 5"
   ]
  },
  {
   "cell_type": "code",
   "execution_count": 51,
   "metadata": {},
   "outputs": [
    {
     "ename": "SyntaxError",
     "evalue": "cannot assign to True (<ipython-input-51-761ed92244d3>, line 1)",
     "output_type": "error",
     "traceback": [
      "\u001b[1;36m  File \u001b[1;32m\"<ipython-input-51-761ed92244d3>\"\u001b[1;36m, line \u001b[1;32m1\u001b[0m\n\u001b[1;33m    True = 4\u001b[0m\n\u001b[1;37m    ^\u001b[0m\n\u001b[1;31mSyntaxError\u001b[0m\u001b[1;31m:\u001b[0m cannot assign to True\n"
     ]
    }
   ],
   "source": [
    "True = 4"
   ]
  },
  {
   "cell_type": "code",
   "execution_count": null,
   "metadata": {},
   "outputs": [],
   "source": []
  },
  {
   "cell_type": "code",
   "execution_count": null,
   "metadata": {},
   "outputs": [],
   "source": []
  },
  {
   "cell_type": "markdown",
   "metadata": {},
   "source": [
    "### 5. Case Sensitivity\n",
    "\n",
    "\n",
    "The python programming language is case-sensitive. This means that \"J\" and \"j\" are two different strings. The case-sensitivity also extends to the variable names. If a variable name is var_1. This variable name is different from Var_1."
   ]
  },
  {
   "cell_type": "code",
   "execution_count": null,
   "metadata": {},
   "outputs": [],
   "source": [
    "x = \"Jare\"\n",
    "\n",
    "y = \"jare\"\n",
    "\n",
    "x == y"
   ]
  },
  {
   "cell_type": "code",
   "execution_count": null,
   "metadata": {},
   "outputs": [],
   "source": []
  },
  {
   "cell_type": "markdown",
   "metadata": {},
   "source": [
    "### 6. Data Types\n",
    "\n",
    "https://www.digitalocean.com/community/tutorials/python-data-types"
   ]
  },
  {
   "cell_type": "markdown",
   "metadata": {},
   "source": [
    "#### Boolean"
   ]
  },
  {
   "cell_type": "code",
   "execution_count": null,
   "metadata": {},
   "outputs": [],
   "source": [
    "#Bool or Boolean\n",
    "\n",
    "x = True\n",
    "\n",
    "y = False\n"
   ]
  },
  {
   "cell_type": "markdown",
   "metadata": {},
   "source": [
    "*Note: You cannot assign python keywords to variables*"
   ]
  },
  {
   "cell_type": "code",
   "execution_count": null,
   "metadata": {},
   "outputs": [],
   "source": []
  },
  {
   "cell_type": "code",
   "execution_count": null,
   "metadata": {},
   "outputs": [],
   "source": []
  },
  {
   "cell_type": "markdown",
   "metadata": {},
   "source": [
    "#### Boolean Operators\n",
    "\n",
    "\n",
    "https://realpython.com/python-boolean/"
   ]
  },
  {
   "cell_type": "code",
   "execution_count": null,
   "metadata": {},
   "outputs": [],
   "source": [
    "#NOT\n",
    "\n",
    "not False"
   ]
  },
  {
   "cell_type": "code",
   "execution_count": null,
   "metadata": {},
   "outputs": [],
   "source": [
    "not True"
   ]
  },
  {
   "cell_type": "code",
   "execution_count": null,
   "metadata": {},
   "outputs": [],
   "source": [
    "#AND\n",
    "\n",
    "True and False\n",
    "\n",
    "#True and True\n",
    "\n",
    "#False and False\n",
    "\n",
    "#False and True"
   ]
  },
  {
   "cell_type": "code",
   "execution_count": null,
   "metadata": {},
   "outputs": [],
   "source": [
    "#OR\n",
    "\n",
    "True or False\n",
    "\n",
    "#True or True\n",
    "\n",
    "#False or False\n",
    "\n",
    "#False or True"
   ]
  },
  {
   "cell_type": "code",
   "execution_count": null,
   "metadata": {},
   "outputs": [],
   "source": [
    "1 == 1.0"
   ]
  },
  {
   "cell_type": "markdown",
   "metadata": {},
   "source": [
    "# is used to prevent python from reading the last of your code..E.g x is not y should be true after running bcos thats the last line of code here but once i put my # just before my last code it automatically becoms \"false bcos the upper line is \"x is y\"which is false\n",
    " "
   ]
  },
  {
   "cell_type": "code",
   "execution_count": 24,
   "metadata": {},
   "outputs": [
    {
     "data": {
      "text/plain": [
       "False"
      ]
     },
     "execution_count": 24,
     "metadata": {},
     "output_type": "execute_result"
    }
   ],
   "source": [
    "#IS\n",
    "\n",
    "x = 5\n",
    "\n",
    "x is x\n",
    "\n",
    "x is not x\n",
    "\n",
    "y = 10\n",
    "\n",
    "x is y\n",
    "\n",
    "#x is not y"
   ]
  },
  {
   "cell_type": "code",
   "execution_count": null,
   "metadata": {},
   "outputs": [],
   "source": [
    "x is not y"
   ]
  },
  {
   "cell_type": "markdown",
   "metadata": {},
   "source": [
    "In mathematics, logic dictates that True = 1 and False = 0. This is the same with python and so we can perform some mathematical operations with them in the following way:"
   ]
  },
  {
   "cell_type": "code",
   "execution_count": null,
   "metadata": {},
   "outputs": [],
   "source": [
    "True == 1"
   ]
  },
  {
   "cell_type": "code",
   "execution_count": null,
   "metadata": {},
   "outputs": [],
   "source": [
    "False == 0"
   ]
  },
  {
   "cell_type": "code",
   "execution_count": null,
   "metadata": {},
   "outputs": [],
   "source": [
    "True + False + True + False"
   ]
  },
  {
   "cell_type": "code",
   "execution_count": null,
   "metadata": {},
   "outputs": [],
   "source": [
    "(True + True)*(True + True)"
   ]
  },
  {
   "cell_type": "code",
   "execution_count": null,
   "metadata": {},
   "outputs": [],
   "source": []
  },
  {
   "cell_type": "markdown",
   "metadata": {},
   "source": [
    "### Writing Mathematical Formulas\n",
    "\n",
    "\n",
    "With the information given so far, we can write any mathematical formula in python and use them to make very fast computations.\n",
    "\n",
    "The examples given below are:\n",
    "\n",
    "- Applying the Quadratic Formula (Almighty Formula) to solve the quadratic equation:\n",
    "\n",
    "> $5x^2+10x-50=0$\n",
    "\n",
    "- Mean of 10 numbers: 137, 205, 300, 215, 228, 197, 296, 144, 177, 222\n",
    "\n",
    "- Area of a Trapezium of height 8, upper base 6 and lower base 10"
   ]
  },
  {
   "cell_type": "markdown",
   "metadata": {},
   "source": [
    "**Example 1**:\n",
    "\n",
    "The quadratic formula is:\n",
    "\n",
    "$x = \\frac{-b+\\sqrt{b^2-4ac}}{2a}$  and    $x = \\frac{-b-\\sqrt{b^2-4ac}}{2a}$\n",
    "\n",
    "\n",
    "From the question given, we have the following:\n",
    "\n",
    "$a=5,b=10,c=-50$"
   ]
  },
  {
   "cell_type": "code",
   "execution_count": 25,
   "metadata": {},
   "outputs": [
    {
     "data": {
      "text/plain": [
       "2.3166247903554003"
      ]
     },
     "execution_count": 25,
     "metadata": {},
     "output_type": "execute_result"
    }
   ],
   "source": [
    "import math\n",
    "\n",
    "\n",
    "a = 5\n",
    "\n",
    "b = 10\n",
    "\n",
    "c = -50\n",
    "\n",
    "x_1 = (-b + math.sqrt(b**2 - 4*a*c))/(2*a)\n",
    "\n",
    "x_2 = (-b - math.sqrt(b**2 - 4*a*c))/(2*a)\n",
    "\n",
    "x_1\n"
   ]
  },
  {
   "cell_type": "code",
   "execution_count": null,
   "metadata": {},
   "outputs": [],
   "source": [
    "math."
   ]
  },
  {
   "cell_type": "code",
   "execution_count": 26,
   "metadata": {},
   "outputs": [
    {
     "data": {
      "text/plain": [
       "-4.3166247903554"
      ]
     },
     "execution_count": 26,
     "metadata": {},
     "output_type": "execute_result"
    }
   ],
   "source": [
    "x_2"
   ]
  },
  {
   "cell_type": "markdown",
   "metadata": {},
   "source": [
    "We can do this operation in another way given below:"
   ]
  },
  {
   "cell_type": "code",
   "execution_count": null,
   "metadata": {},
   "outputs": [],
   "source": [
    "a = 5\n",
    "\n",
    "b = 10\n",
    "\n",
    "c= -50\n",
    "\n",
    "x_1 = (-b + (b**2 - 4*a*c)**0.5)/(2*a)\n",
    "\n",
    "x_2 = (-b - (b**2 - 4*a*c)**0.5)/(2*a)\n",
    "\n",
    "x_1"
   ]
  },
  {
   "cell_type": "code",
   "execution_count": null,
   "metadata": {},
   "outputs": [],
   "source": [
    "x_2"
   ]
  },
  {
   "cell_type": "code",
   "execution_count": null,
   "metadata": {},
   "outputs": [],
   "source": []
  },
  {
   "cell_type": "code",
   "execution_count": null,
   "metadata": {},
   "outputs": [],
   "source": []
  },
  {
   "cell_type": "markdown",
   "metadata": {},
   "source": [
    "**Example 2:**\n",
    "\n",
    "The formula for the mean is:\n",
    "\n",
    "$\\bar{x} = \\frac{\\sum_{i=1}^{i=10} x_i}{10} = \\frac{x_1+x_2+x_3+...x_9+x_{10}}{10}$\n",
    "\n",
    "\n",
    "That is, we sum all the numbers and then divide by the number of values given."
   ]
  },
  {
   "cell_type": "code",
   "execution_count": null,
   "metadata": {},
   "outputs": [],
   "source": [
    "mean = (137 + 205 + 300 + 215 + 228 + 197 + 296 + 144 + 177 + 222)/10\n",
    "\n",
    "mean"
   ]
  },
  {
   "cell_type": "code",
   "execution_count": null,
   "metadata": {},
   "outputs": [],
   "source": []
  },
  {
   "cell_type": "code",
   "execution_count": null,
   "metadata": {},
   "outputs": [],
   "source": []
  },
  {
   "cell_type": "markdown",
   "metadata": {},
   "source": [
    "**Example 3:**\n",
    "\n",
    "The formula for the area of a trapezium is:\n",
    "\n",
    "$A = \\frac{h(m+n)}{2}$\n",
    "\n",
    "where,\n",
    "\n",
    "$h$ is the height of the trapezium\n",
    "\n",
    "$m$ is the upper base of the trapezium\n",
    "\n",
    "$n$ is the lower base of the trapezium"
   ]
  },
  {
   "cell_type": "code",
   "execution_count": null,
   "metadata": {},
   "outputs": [],
   "source": [
    "h = 8\n",
    "\n",
    "m = 6\n",
    "\n",
    "n = 10\n",
    "\n",
    "\n",
    "A_t = (h*(m+n))/(2)\n",
    "\n",
    "A_t"
   ]
  },
  {
   "cell_type": "code",
   "execution_count": null,
   "metadata": {},
   "outputs": [],
   "source": []
  },
  {
   "cell_type": "code",
   "execution_count": null,
   "metadata": {},
   "outputs": [],
   "source": []
  },
  {
   "cell_type": "code",
   "execution_count": null,
   "metadata": {},
   "outputs": [],
   "source": []
  },
  {
   "cell_type": "code",
   "execution_count": null,
   "metadata": {},
   "outputs": [],
   "source": []
  },
  {
   "cell_type": "code",
   "execution_count": null,
   "metadata": {},
   "outputs": [],
   "source": []
  },
  {
   "cell_type": "code",
   "execution_count": null,
   "metadata": {},
   "outputs": [],
   "source": []
  },
  {
   "cell_type": "code",
   "execution_count": null,
   "metadata": {},
   "outputs": [],
   "source": []
  },
  {
   "cell_type": "markdown",
   "metadata": {},
   "source": [
    "### Homework"
   ]
  },
  {
   "cell_type": "markdown",
   "metadata": {},
   "source": [
    "1. Answer the following questions: https://quizizz.com/admin/quiz/5cd4265c88978d001a646e68/python-arithmetic-operators\n",
    "\n",
    "2. The formula for converting between Celsius and Fahrenheit is $(32F-32)\\times\\frac{5}{9}=C$. Write this formula in python and use it to convert $200^{\\circ}$F to celsius\n",
    "\n",
    "3. The area of a Stadium of length  500m and breadth 200m (Hint: Area = length x breadth)\n",
    "\n",
    "4. The volume of a tank of length 240cm, breadth 160cm and 268cm wide. (Hint: Volume = Length x breadth x width)\n",
    "\n",
    "5. The simple interest at a principal of 250,000 naira, rate of 6% and in two years. (Hint: Simple Interest =( principal x rate x time)/100)\n",
    "\n",
    "6. Goods in a container cost 120,000,000 naira. If the goods were sold at 150,000,000 naira, what is the percentage profit on the gooods. (Hint: profit = Selling price – cost price) (Percentage profit = (profit/cost price) x 100)"
   ]
  },
  {
   "cell_type": "code",
   "execution_count": null,
   "metadata": {},
   "outputs": [],
   "source": []
  },
  {
   "cell_type": "code",
   "execution_count": null,
   "metadata": {},
   "outputs": [],
   "source": []
  },
  {
   "cell_type": "markdown",
   "metadata": {},
   "source": [
    "#### String\n",
    "\n",
    "\n",
    "Strings have already been discussed earlier in the section for Comments. However, there are some operations called \"methods\" that we can perform on strings to help us manipulate strings the way we want.\n",
    "\n",
    "There are several methods for manipulating strings but the most important methods have been given below:"
   ]
  },
  {
   "cell_type": "markdown",
   "metadata": {},
   "source": [
    "The various string methods we shall look at are:\n",
    "\n",
    "**slicing<br>\n",
    "strip<br>\n",
    "lstrip<br>\n",
    "rstrip<br>\n",
    "strip with character<br>\n",
    "replace<br>\n",
    "split(, maxsplit = ...)<br>\n",
    "rsplit(, maxsplit)<br>\n",
    ".join()<br>\n",
    ".upper, .lower, .capitalize<br>\n",
    ".islower, isupper<br>\n",
    "isalpha, isnumeric, isalnum<br>\n",
    "count()<br>\n",
    ".find()<br>\n",
    ".rfind()<br>\n",
    ".startswith<br>\n",
    ".endswith<br>\n",
    "partition(seperator)<br>\n",
    "f-strings<br>\n",
    "swapcase()<br>\n",
    "len()<br>**"
   ]
  },
  {
   "cell_type": "markdown",
   "metadata": {},
   "source": [
    "In order to make use of the methods, it is imperative to always use a dot \".\" before using the name of the method.\n",
    "\n",
    "For example, given a string \"I am a boy\". \n",
    "\n",
    "To make all the letters in the statement capitalized, we use the method **.upper()**. This is shown below:"
   ]
  },
  {
   "cell_type": "code",
   "execution_count": null,
   "metadata": {},
   "outputs": [],
   "source": [
    "\"I am a boy\".upper()"
   ]
  },
  {
   "cell_type": "markdown",
   "metadata": {},
   "source": [
    "You might have noticed that the method .upper() has a bracket after it. For most methods in python, we have a bracket after them and this is just the convention. The bracket also serves other uses which will be discussed later on in this notebook.\n",
    "\n",
    "For now, just know that there are brackets that accompany methods in most cases but in some cases, there might not be a bracket."
   ]
  },
  {
   "cell_type": "code",
   "execution_count": null,
   "metadata": {},
   "outputs": [],
   "source": []
  },
  {
   "cell_type": "markdown",
   "metadata": {},
   "source": [
    "To explore these string methods in python, we shall use the string \"My name is Modupe\". We will assign it to a variable x.\n",
    "\n",
    "This is so that we can work with variable x, instead of the actual string \"My name is Modupe\". \n",
    "\n",
    "The reason for doing this is mostly for convenience since it is easier to type x, instead of the statement \"My name is Modupe\"."
   ]
  },
  {
   "cell_type": "code",
   "execution_count": null,
   "metadata": {},
   "outputs": [],
   "source": []
  },
  {
   "cell_type": "code",
   "execution_count": null,
   "metadata": {},
   "outputs": [],
   "source": [
    "\"500\" + \"200\""
   ]
  },
  {
   "cell_type": "code",
   "execution_count": null,
   "metadata": {},
   "outputs": [],
   "source": [
    "x = \"My name is Modupe\"\n",
    "\n",
    "x[0:6] + x[9:11]"
   ]
  },
  {
   "cell_type": "code",
   "execution_count": null,
   "metadata": {},
   "outputs": [],
   "source": [
    "#Slicing\n",
    "\n",
    "x[3:5]"
   ]
  },
  {
   "cell_type": "code",
   "execution_count": null,
   "metadata": {},
   "outputs": [],
   "source": [
    "#Strip, lstrip, rstrip, strip with character\n",
    "x = \"    My name is Modupe   \"\n",
    "x.strip()\n"
   ]
  },
  {
   "cell_type": "code",
   "execution_count": null,
   "metadata": {},
   "outputs": [],
   "source": [
    "x = \"    My name is Modupe   \"\n",
    "\n",
    "x.strip()\n",
    "\n",
    "#x.lstrip()\n",
    "\n",
    "#x.rstrip()"
   ]
  },
  {
   "cell_type": "code",
   "execution_count": null,
   "metadata": {},
   "outputs": [],
   "source": [
    "x = \"##My name is Modupe##\"\n",
    "\n",
    "x.strip(\"#\")"
   ]
  },
  {
   "cell_type": "code",
   "execution_count": null,
   "metadata": {},
   "outputs": [],
   "source": [
    "#Replace\n",
    "x.replace(\"#\", \"*\")"
   ]
  },
  {
   "cell_type": "code",
   "execution_count": null,
   "metadata": {},
   "outputs": [],
   "source": [
    "#split, rsplit\n",
    "\n",
    "x.split(\" \")\n",
    "\n",
    "#x.split(\" \", 2)\n",
    "\n",
    "#x.rsplit(\" \", 2)"
   ]
  },
  {
   "cell_type": "code",
   "execution_count": 55,
   "metadata": {},
   "outputs": [
    {
     "data": {
      "text/plain": [
       "'John is a boy'"
      ]
     },
     "execution_count": 55,
     "metadata": {},
     "output_type": "execute_result"
    }
   ],
   "source": [
    "#join\n",
    "\n",
    "y = [\"John\", \"is\", \"a\", \"boy\"]\n",
    "\n",
    "\" \".join(y)"
   ]
  },
  {
   "cell_type": "code",
   "execution_count": 60,
   "metadata": {},
   "outputs": [
    {
     "data": {
      "text/plain": [
       "['J', 'hn is a b', 'y']"
      ]
     },
     "execution_count": 60,
     "metadata": {},
     "output_type": "execute_result"
    }
   ],
   "source": [
    "string1 = \" \".join(y)\n",
    "\n",
    "string1.split(\"o\")"
   ]
  },
  {
   "cell_type": "code",
   "execution_count": null,
   "metadata": {},
   "outputs": [],
   "source": []
  },
  {
   "cell_type": "code",
   "execution_count": 65,
   "metadata": {},
   "outputs": [
    {
     "data": {
      "text/plain": [
       "'Iyiola'"
      ]
     },
     "execution_count": 65,
     "metadata": {},
     "output_type": "execute_result"
    }
   ],
   "source": [
    "#Upper, Lower, Capitalize\n",
    "\n",
    "x.upper()\n",
    "\n",
    "#x.lower()\n",
    "\n",
    "#x.capitalize()"
   ]
  },
  {
   "cell_type": "code",
   "execution_count": 73,
   "metadata": {},
   "outputs": [
    {
     "data": {
      "text/plain": [
       "False"
      ]
     },
     "execution_count": 73,
     "metadata": {},
     "output_type": "execute_result"
    }
   ],
   "source": [
    "#isupper, islower\n",
    "\n",
    "x.isupper()\n",
    "\n",
    "#x.islower()"
   ]
  },
  {
   "cell_type": "code",
   "execution_count": 83,
   "metadata": {},
   "outputs": [
    {
     "data": {
      "text/plain": [
       "False"
      ]
     },
     "execution_count": 83,
     "metadata": {},
     "output_type": "execute_result"
    }
   ],
   "source": [
    "#isalpha,isnumeric,isalnum,isdigit\n",
    "\n",
    "x = \"45, 56\"\n",
    "\n",
    "#x.isalpha()\n",
    "\n",
    "x.isnumeric()\n",
    "\n",
    "#x.isalnum()\n",
    "\n",
    "#x.isdigit()"
   ]
  },
  {
   "cell_type": "code",
   "execution_count": 91,
   "metadata": {},
   "outputs": [
    {
     "data": {
      "text/plain": [
       "5"
      ]
     },
     "execution_count": 91,
     "metadata": {},
     "output_type": "execute_result"
    }
   ],
   "source": [
    "#count\n",
    "x = \"My name is ModupMe Iyiola Priscillia\"\n",
    "x.count(\" \")\n",
    "\n",
    "#x.count(\"m\")"
   ]
  },
  {
   "cell_type": "code",
   "execution_count": 112,
   "metadata": {},
   "outputs": [
    {
     "name": "stdout",
     "output_type": "stream",
     "text": [
      "The index is: 0\n",
      "The index is: 11\n",
      "The index is: 16\n"
     ]
    }
   ],
   "source": [
    "for index, letter in enumerate(x):\n",
    "    if letter == \"M\":\n",
    "        print(f\"The index is: {index}\")\n",
    "        "
   ]
  },
  {
   "cell_type": "code",
   "execution_count": null,
   "metadata": {},
   "outputs": [],
   "source": []
  },
  {
   "cell_type": "code",
   "execution_count": null,
   "metadata": {},
   "outputs": [],
   "source": []
  },
  {
   "cell_type": "code",
   "execution_count": 93,
   "metadata": {},
   "outputs": [
    {
     "data": {
      "text/plain": [
       "16"
      ]
     },
     "execution_count": 93,
     "metadata": {},
     "output_type": "execute_result"
    }
   ],
   "source": [
    "#Find\n",
    "\n",
    "x.find(\"M\")\n",
    "\n",
    "x.rfind(\"M\")"
   ]
  },
  {
   "cell_type": "code",
   "execution_count": 98,
   "metadata": {},
   "outputs": [
    {
     "data": {
      "text/plain": [
       "True"
      ]
     },
     "execution_count": 98,
     "metadata": {},
     "output_type": "execute_result"
    }
   ],
   "source": [
    "#startswith\n",
    "\n",
    "x.startswith(\"M\")"
   ]
  },
  {
   "cell_type": "code",
   "execution_count": null,
   "metadata": {},
   "outputs": [],
   "source": [
    "#endsiwth\n",
    "\n",
    "x.endswith(\"j\")"
   ]
  },
  {
   "cell_type": "code",
   "execution_count": 100,
   "metadata": {},
   "outputs": [
    {
     "data": {
      "text/plain": [
       "('My', ' ', 'name is ModupMe Iyiola Priscillia')"
      ]
     },
     "execution_count": 100,
     "metadata": {},
     "output_type": "execute_result"
    }
   ],
   "source": [
    "#partition by a character or word\n",
    "\n",
    "x.partition(\" \")"
   ]
  },
  {
   "cell_type": "code",
   "execution_count": 101,
   "metadata": {},
   "outputs": [
    {
     "data": {
      "text/plain": [
       "'My name is ModupMe Iyiola Priscillia and Tolu is my friend'"
      ]
     },
     "execution_count": 101,
     "metadata": {},
     "output_type": "execute_result"
    }
   ],
   "source": [
    "#F-strings\n",
    "\n",
    "f\"{x}\"\n",
    "\n",
    "y = \"Tolu\"\n",
    "\n",
    "f\"{x} and {y} is my friend\""
   ]
  },
  {
   "cell_type": "code",
   "execution_count": 110,
   "metadata": {},
   "outputs": [
    {
     "data": {
      "text/plain": [
       "'mY NAME IS ModupMe Iyiola Priscillia'"
      ]
     },
     "execution_count": 110,
     "metadata": {},
     "output_type": "execute_result"
    }
   ],
   "source": [
    "#Swapcase\n",
    "\n",
    "x[0:10].swapcase() + x[10:]"
   ]
  },
  {
   "cell_type": "code",
   "execution_count": 107,
   "metadata": {},
   "outputs": [
    {
     "data": {
      "text/plain": [
       "85"
      ]
     },
     "execution_count": 107,
     "metadata": {},
     "output_type": "execute_result"
    }
   ],
   "source": [
    "50 + 35"
   ]
  },
  {
   "cell_type": "code",
   "execution_count": 111,
   "metadata": {},
   "outputs": [
    {
     "data": {
      "text/plain": [
       "36"
      ]
     },
     "execution_count": 111,
     "metadata": {},
     "output_type": "execute_result"
    }
   ],
   "source": [
    "#len\n",
    "\n",
    "len(x)"
   ]
  },
  {
   "cell_type": "code",
   "execution_count": 113,
   "metadata": {},
   "outputs": [
    {
     "data": {
      "text/plain": [
       "12"
      ]
     },
     "execution_count": 113,
     "metadata": {},
     "output_type": "execute_result"
    }
   ],
   "source": [
    "len(\"Ben is a boy\")"
   ]
  },
  {
   "cell_type": "code",
   "execution_count": null,
   "metadata": {},
   "outputs": [],
   "source": []
  },
  {
   "cell_type": "markdown",
   "metadata": {},
   "source": [
    "### Built-in Data Structures\n",
    "\n",
    "\n",
    "These are simply objects in python that help us store and manipulate data.\n",
    "\n",
    "So far, we have discussed how numbers and strings themselves can be manipulated and stored in variables. This level of manipulation and storage is not sufficient for Data Science. We are going to be working with millions of rows and columns of data and simply working with variable assignment and string manipulation won't cut it. This is one of the main reasons we need to learn Data Structures.\n",
    "\n",
    "\n",
    "For now, we would focus on the Built-in Data Structures within the Python programming language. These structures have parallels in other programming languages as well. So they are universal for anyone trying to use a programming language to achieve anything at all, from website creation, to hacking.\n",
    "\n",
    "\n",
    "The 4 major Data Structures are:\n",
    "\n",
    "- Lists\n",
    "\n",
    "- Tuples\n",
    "\n",
    "- Sets\n",
    "\n",
    "- Dictionaries"
   ]
  },
  {
   "cell_type": "markdown",
   "metadata": {},
   "source": [
    "#### Lists:\n",
    "\n",
    "\n",
    "This is simply a collection of items. Items could be numbers, strings, or any other type of objects we have yet to discuss in python.\n",
    "\n",
    "It has certain properties that sets it appart from other Data Structures, but these properties will be discussed later. For now, we introduce these data structures."
   ]
  },
  {
   "cell_type": "markdown",
   "metadata": {},
   "source": [
    "**A list with numbers:**"
   ]
  },
  {
   "cell_type": "code",
   "execution_count": null,
   "metadata": {},
   "outputs": [],
   "source": [
    "A = [2, 4, 6, 8]\n",
    "\n",
    "A"
   ]
  },
  {
   "cell_type": "code",
   "execution_count": 117,
   "metadata": {},
   "outputs": [
    {
     "data": {
      "text/plain": [
       "NoneType"
      ]
     },
     "execution_count": 117,
     "metadata": {},
     "output_type": "execute_result"
    }
   ],
   "source": [
    "type(None)"
   ]
  },
  {
   "cell_type": "markdown",
   "metadata": {},
   "source": [
    "**A list with strings:**"
   ]
  },
  {
   "cell_type": "code",
   "execution_count": null,
   "metadata": {},
   "outputs": [],
   "source": [
    "B = [\"Modupe\", \"Iyiola\", \"Priscillia\"]\n",
    "\n",
    "B"
   ]
  },
  {
   "cell_type": "markdown",
   "metadata": {},
   "source": [
    "A list can contain a mixture of numbers and strings and even other lists. It can contain a Tuple, a Set or Dictionaries."
   ]
  },
  {
   "cell_type": "code",
   "execution_count": null,
   "metadata": {},
   "outputs": [],
   "source": [
    "y = [\"kunle\", 5, 10.5, [\"another list\", \"is\", \"in\", \"this\", \"list y\"]]\n",
    "y"
   ]
  },
  {
   "cell_type": "code",
   "execution_count": null,
   "metadata": {},
   "outputs": [],
   "source": []
  },
  {
   "cell_type": "markdown",
   "metadata": {},
   "source": [
    "**Tuple**:\n",
    "\n",
    "This can also hold any type of objects just like a list. And just like lists, it has its set of unique properties discussed later"
   ]
  },
  {
   "cell_type": "code",
   "execution_count": null,
   "metadata": {},
   "outputs": [],
   "source": [
    "C = (2, 4, 7, 8)\n",
    "\n",
    "C"
   ]
  },
  {
   "cell_type": "code",
   "execution_count": null,
   "metadata": {},
   "outputs": [],
   "source": []
  },
  {
   "cell_type": "markdown",
   "metadata": {},
   "source": [
    "**Sets**:\n",
    "\n",
    "\n",
    "This is another collection of items, only this time, the items must not be duplicated and they must be arranged in ascending order"
   ]
  },
  {
   "cell_type": "code",
   "execution_count": 118,
   "metadata": {},
   "outputs": [
    {
     "data": {
      "text/plain": [
       "{0, 1, 2, 3, 'two'}"
      ]
     },
     "execution_count": 118,
     "metadata": {},
     "output_type": "execute_result"
    }
   ],
   "source": [
    "D = {2, 1, \"two\", 2, 3, 3, 0}\n",
    "\n",
    "D"
   ]
  },
  {
   "cell_type": "code",
   "execution_count": null,
   "metadata": {},
   "outputs": [],
   "source": []
  },
  {
   "cell_type": "markdown",
   "metadata": {},
   "source": [
    "**Dictionaries**:\n",
    "\n",
    "A dictionary contains key-value pairs. A value can easily be accessed via its key. "
   ]
  },
  {
   "cell_type": "code",
   "execution_count": 119,
   "metadata": {},
   "outputs": [
    {
     "data": {
      "text/plain": [
       "{'one': 1, 'two': 2, 'three': 3}"
      ]
     },
     "execution_count": 119,
     "metadata": {},
     "output_type": "execute_result"
    }
   ],
   "source": [
    "E = {\"one\": 1, \"two\" : 2, \"three\": 3}\n",
    "\n",
    "E"
   ]
  },
  {
   "cell_type": "code",
   "execution_count": null,
   "metadata": {},
   "outputs": [],
   "source": []
  },
  {
   "cell_type": "markdown",
   "metadata": {},
   "source": [
    "**Properties of Data Structures**:\n",
    "\n",
    "\n",
    "**List**:\n",
    "- Lists are ordered.\n",
    "- Lists can contain any arbitrary objects.\n",
    "- List elements can be accessed by index.\n",
    "- Lists can be nested to arbitrary depth.\n",
    "- Lists are mutable.\n",
    "- Lists are dynamic.\n",
    "\n",
    "\n",
    "**Tuple**:\n",
    "\n",
    "- Ordered, \n",
    "- Unchangeable\n",
    "- Allow duplicate values.\n",
    "\n",
    "\n",
    "**Set**:\n",
    "- Sets are unordered.\n",
    "- Set elements are unique. Duplicate elements are not allowed.\n",
    "- A set itself may be modified, but the elements contained in the set must be of an immutable type.\n",
    "\n",
    "\n",
    "**Dictionary**:\n",
    "- Dictionaries are unordered.\n",
    "- Keys are unique.\n",
    "- Keys must be immutable. \n",
    "\n",
    "\n",
    "Below, we shall proceed to explain these properties."
   ]
  },
  {
   "cell_type": "code",
   "execution_count": null,
   "metadata": {},
   "outputs": [],
   "source": []
  },
  {
   "cell_type": "markdown",
   "metadata": {},
   "source": [
    "**List**"
   ]
  },
  {
   "cell_type": "code",
   "execution_count": 121,
   "metadata": {},
   "outputs": [
    {
     "data": {
      "text/plain": [
       "True"
      ]
     },
     "execution_count": 121,
     "metadata": {},
     "output_type": "execute_result"
    }
   ],
   "source": [
    "# Lists are ordered\n",
    "\n",
    "L = [\"a\", \"c\", \"b\"]\n",
    "\n",
    "M = [\"a\", \"b\", \"c\"]\n",
    "\n",
    "N = [\"a\", \"b\", \"c\"]\n",
    "\n",
    "L == M\n",
    "\n",
    "M == N"
   ]
  },
  {
   "cell_type": "code",
   "execution_count": null,
   "metadata": {},
   "outputs": [],
   "source": [
    "# Lists can contain any arbitrary objects.,i.e a list can virtually contain everything(string,integer,float etc).. \n",
    "list is usually called out by using index i.e numbers  \n",
    "\n",
    "L = [\"one\", 2, \"three\", 4, None]\n",
    "\n",
    "L"
   ]
  },
  {
   "cell_type": "code",
   "execution_count": 125,
   "metadata": {},
   "outputs": [
    {
     "data": {
      "text/plain": [
       "4"
      ]
     },
     "execution_count": 125,
     "metadata": {},
     "output_type": "execute_result"
    }
   ],
   "source": [
    "# Lists are accessed by index\n",
    "\n",
    "L[0]\n",
    "\n",
    "L[1]\n",
    "\n",
    "L[2]\n",
    "\n",
    "L[3]"
   ]
  },
  {
   "cell_type": "code",
   "execution_count": 126,
   "metadata": {},
   "outputs": [
    {
     "data": {
      "text/plain": [
       "'Sister'"
      ]
     },
     "execution_count": 126,
     "metadata": {},
     "output_type": "execute_result"
    }
   ],
   "source": [
    "# Lists can be nested\n",
    "\n",
    "M = [\"Father\", \"Mother\", [\"Brother\", \"Sister\"]]\n",
    "\n",
    "M[0]\n",
    "\n",
    "M[1]\n",
    "\n",
    "M[2]\n",
    "\n",
    "M[2][0]\n",
    "\n",
    "M[2][1]"
   ]
  },
  {
   "cell_type": "code",
   "execution_count": 127,
   "metadata": {},
   "outputs": [
    {
     "data": {
      "text/plain": [
       "['Apple', 'Samsung', 'Nokia', 'Father', 'Mother', ['Brother', 'Sister']]"
      ]
     },
     "execution_count": 127,
     "metadata": {},
     "output_type": "execute_result"
    }
   ],
   "source": [
    "# Lists can be mutable or changeable\n",
    "\n",
    "N = [\"Apple\", \"Samsung\", \"Nokia\"]\n",
    "\n",
    "N += M\n",
    "\n",
    "N"
   ]
  },
  {
   "cell_type": "code",
   "execution_count": null,
   "metadata": {},
   "outputs": [],
   "source": [
    "N[0] = 1\n",
    "\n",
    "N"
   ]
  },
  {
   "cell_type": "code",
   "execution_count": null,
   "metadata": {},
   "outputs": [],
   "source": []
  },
  {
   "cell_type": "markdown",
   "metadata": {},
   "source": [
    "**Tuple**"
   ]
  },
  {
   "cell_type": "code",
   "execution_count": null,
   "metadata": {},
   "outputs": [],
   "source": [
    "# Tuples are ordered\n",
    "\n",
    "T = (1, \"a\", 2, \"b\")\n",
    "\n",
    "U = (1, 2, \"a\", \"b\")\n",
    "\n",
    "T == U"
   ]
  },
  {
   "cell_type": "code",
   "execution_count": null,
   "metadata": {},
   "outputs": [],
   "source": [
    "# Tuples are unchangeable\n",
    "\n",
    "T[1] = 19"
   ]
  },
  {
   "cell_type": "code",
   "execution_count": null,
   "metadata": {},
   "outputs": [],
   "source": [
    "# Allow duplicates\n",
    "R = (1, 1, 4, 2, 4, 4, 2)\n",
    "\n",
    "R"
   ]
  },
  {
   "cell_type": "code",
   "execution_count": null,
   "metadata": {},
   "outputs": [],
   "source": []
  },
  {
   "cell_type": "markdown",
   "metadata": {},
   "source": [
    "Sets"
   ]
  },
  {
   "cell_type": "code",
   "execution_count": null,
   "metadata": {},
   "outputs": [],
   "source": [
    "D = {2, 1, \"two\", 2, 3, 3, 0}\n"
   ]
  },
  {
   "cell_type": "code",
   "execution_count": null,
   "metadata": {},
   "outputs": [],
   "source": []
  },
  {
   "cell_type": "code",
   "execution_count": null,
   "metadata": {},
   "outputs": [],
   "source": []
  },
  {
   "cell_type": "markdown",
   "metadata": {},
   "source": [
    "**Dictionary**:A dictionary contans key values "
   ]
  },
  {
   "cell_type": "code",
   "execution_count": null,
   "metadata": {},
   "outputs": [],
   "source": [
    "E = {\"one\": 1, \"two\" : 2, \"three\": 3}\n",
    "\n",
    "#Keys are unique\n",
    "E[\"one\"]"
   ]
  },
  {
   "cell_type": "code",
   "execution_count": null,
   "metadata": {},
   "outputs": [],
   "source": []
  }
 ],
 "metadata": {
  "kernelspec": {
   "display_name": "Python 3 (ipykernel)",
   "language": "python",
   "name": "python3"
  },
  "language_info": {
   "codemirror_mode": {
    "name": "ipython",
    "version": 3
   },
   "file_extension": ".py",
   "mimetype": "text/x-python",
   "name": "python",
   "nbconvert_exporter": "python",
   "pygments_lexer": "ipython3",
   "version": "3.9.12"
  }
 },
 "nbformat": 4,
 "nbformat_minor": 4
}
